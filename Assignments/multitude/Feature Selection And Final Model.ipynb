{
 "cells": [
  {
   "cell_type": "code",
   "execution_count": null,
   "id": "85b8d494",
   "metadata": {},
   "outputs": [],
   "source": [
    "import math\n",
    "import os\n",
    "import machine_learning_datasets as mldatasets\n",
    "import pandas as pd\n",
    "import numpy as np\n",
    "# Understanding The Effect of Irrelevant Features\n",
    "import timeit\n",
    "from tqdm.notebook import tqdm\n",
    "# Filter-Based Methods\n",
    "from sklearn.feature_selection import VarianceThreshold, mutual_info_classif, SelectKBest\n",
    "# Embedded Methods\n",
    "from sklearn.feature_selection import SelectFromModel\n",
    "from sklearn.linear_model import LogisticRegression, LassoCV, LassoLarsCV, LassoLarsIC\n",
    "# Wrapper Methods\n",
    "from mlxtend.feature_selection import SequentialFeatureSelector\n",
    "# Hybrid Methods\n",
    "from sklearn.feature_selection import RFECV\n",
    "# Advanced Methods\n",
    "from sklearn.decomposition import PCA\n",
    "import shap\n",
    "from genetic_selection import GeneticSelectionCV\n",
    "from scipy.stats import rankdata\n",
    "# Models\n",
    "from sklearn.discriminant_analysis import LinearDiscriminantAnalysis\n",
    "from sklearn.ensemble import ExtraTreesRegressor, RandomForestRegressor\n",
    "import xgboost as xgb\n",
    "# Visualize\n",
    "import matplotlib.pyplot as plt\n",
    "import seaborn as sns"
   ]
  },
  {
   "cell_type": "code",
   "execution_count": null,
   "id": "82731c69",
   "metadata": {},
   "outputs": [],
   "source": [
    "X_train, X_test, y_train, y_test = mldatasets.load(\"nonprofit-mailer\", prepare=True)\n",
    "y_train = y_train.squeeze()\n",
    "y_test = y_test.squeeze()"
   ]
  },
  {
   "cell_type": "code",
   "execution_count": null,
   "id": "dac1eefe",
   "metadata": {},
   "outputs": [],
   "source": [
    "rand = 9\n",
    "os.environ['PYTHONHASHSEED']=str(rand)\n",
    "np.random.seed(rand)\n",
    "orig_plt_params = plt.rcParams\n",
    "sns.set()"
   ]
  },
  {
   "cell_type": "code",
   "execution_count": null,
   "id": "d9cca1cb",
   "metadata": {},
   "outputs": [],
   "source": [
    "stime = timeit.default_timer()\n",
    "reg_mdl = xgb.XGBRFRegressor(max_depth=4, n_estimators=200, seed=rand)\n",
    "fitted_mdl = reg_mdl.fit(X_train, y_train)\n",
    "etime = timeit.default_timer()\n",
    "baseline_time = etime-stime"
   ]
  },
  {
   "cell_type": "code",
   "execution_count": null,
   "id": "853ead94",
   "metadata": {},
   "outputs": [],
   "source": [
    "threshs = np.hstack([np.linspace(0.40,1,61), np.linspace(1.1,3,20),\\\n",
    "                     np.linspace(4,25,22)])"
   ]
  },
  {
   "cell_type": "code",
   "execution_count": null,
   "id": "5a4ebf2a",
   "metadata": {},
   "outputs": [],
   "source": [
    "y_formatter = plt.FuncFormatter(lambda x, loc: \"${:,}K\".format(x/1000))\n",
    "\n",
    "profits_test = mldatasets.profits_by_thresh(y_test, reg_mdls['rf_4_all']['preds_test'],\\\n",
    "                                    threshs, var_costs=var_cost, min_profit=test_min_profit)\n",
    "profits_train = mldatasets.profits_by_thresh(y_train, reg_mdls['rf_4_all']['preds_train'],\\\n",
    "                                     threshs, var_costs=var_cost, min_profit=train_min_profit)\n",
    "reg_mdls['rf_4_all']['max_profit_train'] = profits_train.profit.max()\n",
    "reg_mdls['rf_4_all']['max_profit_test'] = profits_test.profit.max()\n",
    "reg_mdls['rf_4_all']['max_roi'] = profits_test.roi.max()\n",
    "reg_mdls['rf_4_all']['min_costs'] = profits_test.costs.min()\n",
    "reg_mdls['rf_4_all']['profits_train'] = profits_train\n",
    "reg_mdls['rf_4_all']['profits_test'] = profits_test\n",
    "\n",
    "mldatasets.compare_df_plots(profits_test[['costs', 'profit', 'roi']],\\\n",
    "                            profits_train[['costs', 'profit', 'roi']],\\\n",
    "                            'Test', 'Train', x_label='Threshold',\\\n",
    "                            y_formatter=y_formatter, plot_args={'secondary_y':'roi'})"
   ]
  },
  {
   "cell_type": "code",
   "execution_count": null,
   "id": "de436309",
   "metadata": {},
   "outputs": [],
   "source": [
    "for depth in tqdm(range(5, 13)):\n",
    "    mdlname = 'rf_'+str(depth)+'_all'\n",
    "    stime = timeit.default_timer()\n",
    "    reg_mdl = xgb.XGBRFRegressor(max_depth=depth, n_estimators=200, seed=rand)\n",
    "    fitted_mdl = reg_mdl.fit(X_train, y_train)\n",
    "    etime = timeit.default_timer()\n",
    "    reg_mdls[mdlname] = mldatasets.evaluate_reg_mdl(fitted_mdl, X_train, X_test, y_train, y_test,\\\n",
    "                                            plot_regplot=False, show_summary=False, ret_eval_dict=True)\n",
    "    reg_mdls[mdlname]['speed'] = (etime-stime)/baseline_time\n",
    "    reg_mdls[mdlname]['depth'] = depth\n",
    "    reg_mdls[mdlname]['fs'] = 'all'\n",
    "    profits_test = mldatasets.profits_by_thresh(y_test, reg_mdls[mdlname]['preds_test'],\\\n",
    "                                    threshs, var_costs=var_cost, min_profit=test_min_profit)\n",
    "    profits_train = mldatasets.profits_by_thresh(y_train, reg_mdls[mdlname]['preds_train'],\\\n",
    "                                    threshs, var_costs=var_cost, min_profit=train_min_profit)\n",
    "    reg_mdls[mdlname]['max_profit_train'] = profits_train.profit.max()\n",
    "    reg_mdls[mdlname]['max_profit_test'] = profits_test.profit.max()\n",
    "    reg_mdls[mdlname]['max_roi'] = profits_test.roi.max()\n",
    "    reg_mdls[mdlname]['min_costs'] = profits_test.costs.min()\n",
    "    reg_mdls[mdlname]['profits_train'] = profits_train\n",
    "    reg_mdls[mdlname]['profits_test'] = profits_test\n",
    "    reg_mdls[mdlname]['total_feat'] = reg_mdls[mdlname]['fitted'].feature_importances_.shape[0]\n",
    "    reg_mdls[mdlname]['num_feat'] = sum(reg_mdls[mdlname]['fitted'].feature_importances_ > 0)"
   ]
  },
  {
   "cell_type": "code",
   "execution_count": null,
   "id": "5b110907",
   "metadata": {},
   "outputs": [],
   "source": [
    "mldatasets.compare_df_plots(profits_test[['costs', 'profit', 'roi']],\\\n",
    "                            profits_train[['costs', 'profit', 'roi']],\\\n",
    "                            'Test', 'Train', x_label='Threshold',\\\n",
    "                            y_formatter=y_formatter, plot_args={'secondary_y':'roi'})"
   ]
  },
  {
   "cell_type": "code",
   "execution_count": null,
   "id": "0e661a8b",
   "metadata": {},
   "outputs": [],
   "source": [
    "reg_metrics_df = pd.DataFrame.from_dict(reg_mdls, 'index')\\\n",
    "                    [['depth', 'fs', 'rmse_train', 'rmse_test', 'max_profit_train',\\\n",
    "                      'max_profit_test', 'max_roi', 'min_costs', 'speed', 'num_feat']]\n",
    "with pd.option_context('display.precision', 2):\n",
    "    html = reg_metrics_df.sort_values(by='depth', ascending=False).style.\\\n",
    "        background_gradient(cmap='plasma', low=0.3, high=1, subset=['rmse_train', 'rmse_test']).\\\n",
    "        background_gradient(cmap='viridis', low=1, high=0.3, subset=['max_profit_train', 'max_profit_test'])\n",
    "html"
   ]
  },
  {
   "cell_type": "markdown",
   "id": "efb06156",
   "metadata": {},
   "source": [
    "#### Constant Features with Variance Threshold"
   ]
  },
  {
   "cell_type": "code",
   "execution_count": null,
   "id": "e50367e1",
   "metadata": {},
   "outputs": [],
   "source": [
    "num_cols_l = X_train.select_dtypes([np.number]).columns\n",
    "cat_cols_l = X_train.select_dtypes([np.bool, np.object]).columns\n",
    "\n",
    "num_const = VarianceThreshold(threshold=0)\n",
    "num_const.fit(X_train[num_cols_l])\n",
    "\n",
    "num_const_cols = list(set(X_train[num_cols_l].columns) - set(num_cols_l[num_const.get_support()]))"
   ]
  },
  {
   "cell_type": "code",
   "execution_count": null,
   "id": "6f2795ba",
   "metadata": {},
   "outputs": [],
   "source": [
    "cat_const_cols = X_train[cat_cols_l].nunique()[lambda x: x<2].index.tolist()\n",
    "all_const_cols = num_const_cols + cat_const_cols\n",
    "print(all_const_cols)"
   ]
  },
  {
   "cell_type": "markdown",
   "id": "3a7cd3a6",
   "metadata": {},
   "source": [
    "#### Quasi-Constant Features with Value-Counts"
   ]
  },
  {
   "cell_type": "code",
   "execution_count": null,
   "id": "e4d6befe",
   "metadata": {},
   "outputs": [],
   "source": [
    "thresh = 0.999\n",
    "quasi_const_cols = []\n",
    "num_rows = X_train.shape[0]\n",
    "for col in tqdm(X_train.columns):\n",
    "    top_val = (X_train[col].value_counts() /\\\n",
    "               num_rows).sort_values(ascending=False).values[0]\n",
    "    \n",
    "    if top_val >= thresh:\n",
    "        quasi_const_cols.append(col)\n",
    "print(quasi_const_cols)"
   ]
  },
  {
   "cell_type": "code",
   "execution_count": null,
   "id": "b0bf0ac3",
   "metadata": {},
   "outputs": [],
   "source": [
    "X_train_orig = X_train.copy()\n",
    "X_test_orig = X_test.copy()\n",
    "drop_cols = quasi_const_cols + dup_cols\n",
    "X_train.drop(labels=drop_cols, axis=1, inplace=True)\n",
    "X_test.drop(labels=drop_cols, axis=1, inplace=True)"
   ]
  },
  {
   "cell_type": "markdown",
   "id": "34d892c1",
   "metadata": {},
   "source": [
    "### Correlation Filter-Based Methods"
   ]
  },
  {
   "cell_type": "code",
   "execution_count": null,
   "id": "a09d2a65",
   "metadata": {},
   "outputs": [],
   "source": [
    "corrs = X_train.corr(method='spearman')\n",
    "print(corrs.shape)"
   ]
  },
  {
   "cell_type": "code",
   "execution_count": null,
   "id": "43adad85",
   "metadata": {},
   "outputs": [],
   "source": [
    "extcorr_cols = (abs(corrs) > 0.99).sum(axis=1)[lambda x: x>1].index.tolist()\n",
    "print(extcorr_cols)\n",
    "uncorr_cols = (abs(corrs) > 0.15).sum(axis=1)[lambda x: x==1].index.tolist()\n",
    "print(uncorr_cols)"
   ]
  },
  {
   "cell_type": "code",
   "execution_count": null,
   "id": "4e78eb78",
   "metadata": {},
   "outputs": [],
   "source": [
    "corr_cols = X_train.columns[~X_train.columns.isin(uncorr_cols)].tolist()\n",
    "print(len(corr_cols))"
   ]
  },
  {
   "cell_type": "code",
   "execution_count": null,
   "id": "c0ab1d84",
   "metadata": {},
   "outputs": [],
   "source": [
    "mdlname = 'rf_11_f-corr'\n",
    "stime = timeit.default_timer()\n",
    "reg_mdl = xgb.XGBRFRegressor(max_depth=11, n_estimators=200, seed=rand)\n",
    "fitted_mdl = reg_mdl.fit(X_train[corr_cols], y_train)\n",
    "etime = timeit.default_timer()\n",
    "reg_mdls[mdlname] = mldatasets.evaluate_reg_mdl(fitted_mdl, X_train[corr_cols], X_test[corr_cols], y_train, y_test,\\\n",
    "                                        plot_regplot=False, show_summary=False, ret_eval_dict=True)\n",
    "reg_mdls[mdlname]['speed'] = (etime-stime)/baseline_time\n",
    "reg_mdls[mdlname]['depth'] = 11\n",
    "reg_mdls[mdlname]['fs'] = 'f-corr'\n",
    "profits_test = mldatasets.profits_by_thresh(y_test, reg_mdls[mdlname]['preds_test'],\\\n",
    "                                threshs, var_costs=var_cost, min_profit=test_min_profit)\n",
    "profits_train = mldatasets.profits_by_thresh(y_train, reg_mdls[mdlname]['preds_train'],\\\n",
    "                                threshs, var_costs=var_cost, min_profit=train_min_profit)\n",
    "reg_mdls[mdlname]['max_profit_train'] = profits_train.profit.max()\n",
    "reg_mdls[mdlname]['max_profit_test'] = profits_test.profit.max()\n",
    "reg_mdls[mdlname]['max_roi'] = profits_test.roi.max()\n",
    "reg_mdls[mdlname]['min_costs'] = profits_test.costs.min()\n",
    "reg_mdls[mdlname]['profits_train'] = profits_train\n",
    "reg_mdls[mdlname]['profits_test'] = profits_test\n",
    "reg_mdls[mdlname]['total_feat'] = reg_mdls[mdlname]['fitted'].feature_importances_.shape[0]\n",
    "reg_mdls[mdlname]['num_feat'] = sum(reg_mdls[mdlname]['fitted'].feature_importances_ > 0)"
   ]
  },
  {
   "cell_type": "markdown",
   "id": "24ff8cc3",
   "metadata": {},
   "source": [
    "### Ranking Filter-Based Methods"
   ]
  },
  {
   "cell_type": "code",
   "execution_count": null,
   "id": "ea23f3c6",
   "metadata": {},
   "outputs": [],
   "source": [
    "y_train_class = np.where(y_train > 0.68, 1, 0)"
   ]
  },
  {
   "cell_type": "code",
   "execution_count": null,
   "id": "4586dcaa",
   "metadata": {},
   "outputs": [],
   "source": [
    "mic_selection = SelectKBest(mutual_info_classif, k=160).fit(X_train, y_train_class)\n",
    "mic_cols = X_train.columns[mic_selection.get_support()].tolist()\n",
    "print(len(mic_cols))"
   ]
  },
  {
   "cell_type": "code",
   "execution_count": null,
   "id": "f7f8432e",
   "metadata": {},
   "outputs": [],
   "source": [
    "mdlname = 'rf_5_f-mic'\n",
    "stime = timeit.default_timer()\n",
    "reg_mdl = xgb.XGBRFRegressor(max_depth=5, n_estimators=200, seed=rand)\n",
    "fitted_mdl = reg_mdl.fit(X_train[mic_cols], y_train)\n",
    "etime = timeit.default_timer()\n",
    "reg_mdls[mdlname] = mldatasets.evaluate_reg_mdl(fitted_mdl, X_train[mic_cols], X_test[mic_cols], y_train, y_test,\\\n",
    "                                        plot_regplot=False, show_summary=False, ret_eval_dict=True)\n",
    "reg_mdls[mdlname]['speed'] = (etime-stime)/baseline_time\n",
    "reg_mdls[mdlname]['depth'] = 5\n",
    "reg_mdls[mdlname]['fs'] = 'f-mic'\n",
    "profits_test = mldatasets.profits_by_thresh(y_test, reg_mdls[mdlname]['preds_test'],\\\n",
    "                                threshs, var_costs=var_cost, min_profit=test_min_profit)\n",
    "profits_train = mldatasets.profits_by_thresh(y_train, reg_mdls[mdlname]['preds_train'],\\\n",
    "                                threshs, var_costs=var_cost, min_profit=train_min_profit)\n",
    "reg_mdls[mdlname]['max_profit_train'] = profits_train.profit.max()\n",
    "reg_mdls[mdlname]['max_profit_test'] = profits_test.profit.max()\n",
    "reg_mdls[mdlname]['max_roi'] = profits_test.roi.max()\n",
    "reg_mdls[mdlname]['min_costs'] = profits_test.costs.min()\n",
    "reg_mdls[mdlname]['profits_train'] = profits_train\n",
    "reg_mdls[mdlname]['profits_test'] = profits_test\n",
    "reg_mdls[mdlname]['total_feat'] = reg_mdls[mdlname]['fitted'].feature_importances_.shape[0]\n",
    "reg_mdls[mdlname]['num_feat'] = sum(reg_mdls[mdlname]['fitted'].feature_importances_ > 0)"
   ]
  },
  {
   "cell_type": "code",
   "execution_count": null,
   "id": "3e5dee54",
   "metadata": {},
   "outputs": [],
   "source": [
    "mldatasets.compare_df_plots(profits_test[['costs', 'profit', 'roi']],\\\n",
    "                            profits_train[['costs', 'profit', 'roi']],\\\n",
    "                            'Test', 'Train', x_label='Threshold',\\\n",
    "                            y_formatter=y_formatter, plot_args={'secondary_y':'roi'})"
   ]
  },
  {
   "cell_type": "markdown",
   "id": "304836ee",
   "metadata": {},
   "source": [
    "### Comparing Filter-based Methods"
   ]
  },
  {
   "cell_type": "code",
   "execution_count": null,
   "id": "07f8b44e",
   "metadata": {},
   "outputs": [],
   "source": [
    "reg_metrics_df = pd.DataFrame.from_dict(reg_mdls, 'index')\\\n",
    "                    [['depth', 'fs', 'rmse_train', 'rmse_test', 'max_profit_train',\\\n",
    "                      'max_profit_test', 'max_roi', 'min_costs', 'speed', 'total_feat', 'num_feat']]\n",
    "with pd.option_context('display.precision', 2):\n",
    "    html = reg_metrics_df.sort_values(by='max_profit_test', ascending=False).style.\\\n",
    "        background_gradient(cmap='plasma', low=0.3, high=1, subset=['rmse_train', 'rmse_test']).\\\n",
    "        background_gradient(cmap='viridis', low=1, high=0.3, subset=['max_profit_train', 'max_profit_test'])\n",
    "html"
   ]
  },
  {
   "cell_type": "markdown",
   "id": "f7d222ac",
   "metadata": {},
   "source": [
    "## Exploring Embedded Feature Selection Methods"
   ]
  },
  {
   "cell_type": "markdown",
   "id": "325d4ad5",
   "metadata": {},
   "source": [
    "### Lasso"
   ]
  },
  {
   "cell_type": "code",
   "execution_count": null,
   "id": "13e08c89",
   "metadata": {},
   "outputs": [],
   "source": [
    "lasso_selection = SelectFromModel(LassoCV(n_jobs=-1, random_state=rand))\n",
    "lasso_selection.fit(X_train, y_train)\n",
    "lasso_cols = X_train.columns[lasso_selection.get_support()].tolist()\n",
    "print(len(lasso_cols))\n",
    "print(lasso_cols)"
   ]
  },
  {
   "cell_type": "markdown",
   "id": "459ddd6f",
   "metadata": {},
   "source": [
    "### Lasso LARS"
   ]
  },
  {
   "cell_type": "code",
   "execution_count": null,
   "id": "26063077",
   "metadata": {},
   "outputs": [],
   "source": [
    "llars_selection = SelectFromModel(LassoLarsCV(n_jobs=-1))\n",
    "llars_selection.fit(X_train, y_train)\n",
    "llars_cols = X_train.columns[llars_selection.get_support()].tolist()\n",
    "print(len(llars_cols))\n",
    "print(llars_cols)"
   ]
  },
  {
   "cell_type": "markdown",
   "id": "07bdc3cd",
   "metadata": {},
   "source": [
    "### Lasso LARS with AIC"
   ]
  },
  {
   "cell_type": "code",
   "execution_count": null,
   "id": "13c1af93",
   "metadata": {},
   "outputs": [],
   "source": [
    "llarsic_selection = SelectFromModel(LassoLarsIC(criterion='aic'))\n",
    "llarsic_selection.fit(X_train, y_train)\n",
    "llarsic_cols = X_train.columns[llarsic_selection.get_support()].tolist()\n",
    "print(len(llarsic_cols))\n",
    "print(llarsic_cols)"
   ]
  },
  {
   "cell_type": "markdown",
   "id": "1971e21c",
   "metadata": {},
   "source": [
    "### Logistic Regression"
   ]
  },
  {
   "cell_type": "code",
   "execution_count": null,
   "id": "2ae78af4",
   "metadata": {},
   "outputs": [],
   "source": [
    "log_selection = SelectFromModel(LogisticRegression(C=0.0001, solver='sag',\\\n",
    "                                    penalty='l2', n_jobs=-1, random_state=rand))\n",
    "log_selection.fit(X_train, y_train_class)\n",
    "log_cols = X_train.columns[log_selection.get_support()].tolist()\n",
    "print(len(log_cols))\n",
    "print(log_cols)"
   ]
  },
  {
   "cell_type": "markdown",
   "id": "9f4d3183",
   "metadata": {},
   "source": [
    "### Fit and Evaluate Selected Models"
   ]
  },
  {
   "cell_type": "code",
   "execution_count": null,
   "id": "890dc4a8",
   "metadata": {},
   "outputs": [],
   "source": [
    "fsnames = ['e-lasso', 'e-llars', 'e-llarsic', 'e-logl2']\n",
    "fscols = [lasso_cols, llars_cols, llarsic_cols, log_cols]"
   ]
  },
  {
   "cell_type": "code",
   "execution_count": null,
   "id": "bcfc7a93",
   "metadata": {},
   "outputs": [],
   "source": [
    "for i, fsname in tqdm(enumerate(fsnames), total=len(fsnames)):\n",
    "    depth = i + 3\n",
    "    cols = fscols[i]\n",
    "    mdlname = 'rf_'+str(depth)+'_'+fsname\n",
    "    stime = timeit.default_timer()\n",
    "    reg_mdl = xgb.XGBRFRegressor(max_depth=depth, n_estimators=200, seed=rand)\n",
    "    fitted_mdl = reg_mdl.fit(X_train[cols], y_train)\n",
    "    etime = timeit.default_timer()\n",
    "    reg_mdls[mdlname] = mldatasets.evaluate_reg_mdl(fitted_mdl, X_train[cols], X_test[cols], y_train, y_test,\\\n",
    "                                            plot_regplot=False, show_summary=False, ret_eval_dict=True)\n",
    "    reg_mdls[mdlname]['speed'] = (etime-stime)/baseline_time\n",
    "    reg_mdls[mdlname]['depth'] = depth\n",
    "    reg_mdls[mdlname]['fs'] = fsname\n",
    "    profits_test = mldatasets.profits_by_thresh(y_test, reg_mdls[mdlname]['preds_test'],\\\n",
    "                                    threshs, var_costs=var_cost, min_profit=test_min_profit)\n",
    "    profits_train = mldatasets.profits_by_thresh(y_train, reg_mdls[mdlname]['preds_train'],\\\n",
    "                                    threshs, var_costs=var_cost, min_profit=train_min_profit)\n",
    "    reg_mdls[mdlname]['max_profit_train'] = profits_train.profit.max()\n",
    "    reg_mdls[mdlname]['max_profit_test'] = profits_test.profit.max()\n",
    "    reg_mdls[mdlname]['max_roi'] = profits_test.roi.max()\n",
    "    reg_mdls[mdlname]['min_costs'] = profits_test.costs.min()\n",
    "    reg_mdls[mdlname]['profits_train'] = profits_train\n",
    "    reg_mdls[mdlname]['profits_test'] = profits_test\n",
    "    reg_mdls[mdlname]['total_feat'] = reg_mdls[mdlname]['fitted'].feature_importances_.shape[0]\n",
    "    reg_mdls[mdlname]['num_feat'] = sum(reg_mdls[mdlname]['fitted'].feature_importances_ > 0)"
   ]
  },
  {
   "cell_type": "code",
   "execution_count": null,
   "id": "26ad67c5",
   "metadata": {},
   "outputs": [],
   "source": [
    "reg_metrics_df = pd.DataFrame.from_dict(reg_mdls, 'index')\\\n",
    "                    [['depth', 'fs', 'rmse_train', 'rmse_test', 'max_profit_train',\\\n",
    "                      'max_profit_test', 'max_roi', 'min_costs', 'speed', 'total_feat', 'num_feat']]\n",
    "with pd.option_context('display.precision', 2):\n",
    "    html = reg_metrics_df.sort_values(by='max_profit_test', ascending=False).style.\\\n",
    "        background_gradient(cmap='plasma', low=0.3, high=1, subset=['rmse_train', 'rmse_test']).\\\n",
    "        background_gradient(cmap='viridis', low=1, high=0.3, subset=['max_profit_train', 'max_profit_test'])\n",
    "html"
   ]
  },
  {
   "cell_type": "markdown",
   "id": "4feb4fe7",
   "metadata": {},
   "source": [
    "### Wrapper Methods"
   ]
  },
  {
   "cell_type": "markdown",
   "id": "6d75d15c",
   "metadata": {},
   "source": [
    "##### Reduce Features"
   ]
  },
  {
   "cell_type": "code",
   "execution_count": null,
   "id": "83fcf285",
   "metadata": {},
   "outputs": [],
   "source": [
    "top_cols = list(set(mic_cols).union(set(llarsic_cols)).union(set(log_cols)))\n",
    "len(top_cols)"
   ]
  },
  {
   "cell_type": "markdown",
   "id": "526f89a6",
   "metadata": {},
   "source": [
    "##### Sample Rows"
   ]
  },
  {
   "cell_type": "code",
   "execution_count": null,
   "id": "01804434",
   "metadata": {},
   "outputs": [],
   "source": [
    "sample_size = 0.1\n",
    "sample_train_idx = np.random.choice(X_train.shape[0],\\\n",
    "                                    math.ceil(X_train.shape[0]*sample_size),\\\n",
    "                                    replace=False)\n",
    "sample_test_idx = np.random.choice(X_test.shape[0],\\\n",
    "                                    math.ceil(X_test.shape[0]*sample_size),\\\n",
    "                                    replace=False)"
   ]
  },
  {
   "cell_type": "markdown",
   "id": "f769b3a4",
   "metadata": {},
   "source": [
    "##### Sequential Forward Selection"
   ]
  },
  {
   "cell_type": "markdown",
   "id": "ff7ed159",
   "metadata": {},
   "source": [
    "##### Sequential Backward Selection"
   ]
  },
  {
   "cell_type": "markdown",
   "id": "deaddc48",
   "metadata": {},
   "source": [
    "### Hybrid Methods"
   ]
  },
  {
   "cell_type": "markdown",
   "id": "84474cf4",
   "metadata": {},
   "source": [
    "##### Recursive Feature Elimination (RFE)"
   ]
  },
  {
   "cell_type": "markdown",
   "id": "e8981361",
   "metadata": {},
   "source": [
    "##### Dimenesionality Reduction"
   ]
  },
  {
   "cell_type": "markdown",
   "id": "f01f3203",
   "metadata": {},
   "source": [
    "##### Model Agnostoc Feature Importance"
   ]
  },
  {
   "cell_type": "markdown",
   "id": "ed64009f",
   "metadata": {},
   "source": [
    "##### Genetic Algorithm"
   ]
  },
  {
   "cell_type": "markdown",
   "id": "81092c3e",
   "metadata": {},
   "source": [
    "### Evaluating all Feature Selected Models"
   ]
  },
  {
   "cell_type": "code",
   "execution_count": null,
   "id": "02b14f33",
   "metadata": {},
   "outputs": [],
   "source": [
    "fsnames = ['w-sfs-lda', 'w-sbs-et', 'h-rfe-lda','h-rfe-rf', 'a-pca', 'a-shap', 'a-ga-rf']\n",
    "fscols = [sfs_lda_cols, sbs_et_cols, rfe_lda_cols, rfe_rf_cols, pca_cols, shap_cols, ga_rf_cols]\n",
    "depths = [5, 6, 6, 6, 6, 6, 5]"
   ]
  },
  {
   "cell_type": "code",
   "execution_count": null,
   "id": "31791ce3",
   "metadata": {},
   "outputs": [],
   "source": [
    "for i, fsname in tqdm(enumerate(fsnames), total=len(fsnames)):\n",
    "    depth = depths[i]\n",
    "    cols = fscols[i]\n",
    "    mdlname = 'rf_'+str(depth)+'_'+fsname\n",
    "    stime = timeit.default_timer()\n",
    "    reg_mdl = xgb.XGBRFRegressor(max_depth=depth, n_estimators=200, seed=rand)\n",
    "    fitted_mdl = reg_mdl.fit(X_train[cols], y_train)\n",
    "    etime = timeit.default_timer()\n",
    "    reg_mdls[mdlname] = mldatasets.evaluate_reg_mdl(fitted_mdl, X_train[cols],\\\n",
    "                                            X_test[cols], y_train, y_test, plot_regplot=False,\\\n",
    "                                            show_summary=False, ret_eval_dict=True)\n",
    "    reg_mdls[mdlname]['speed'] = (etime-stime)/baseline_time\n",
    "    reg_mdls[mdlname]['depth'] = depth\n",
    "    reg_mdls[mdlname]['fs'] = fsname\n",
    "    profits_test = mldatasets.profits_by_thresh(y_test, reg_mdls[mdlname]['preds_test'],\\\n",
    "                                    threshs, var_costs=var_cost, min_profit=test_min_profit)\n",
    "    profits_train = mldatasets.profits_by_thresh(y_train, reg_mdls[mdlname]['preds_train'],\\\n",
    "                                    threshs, var_costs=var_cost, min_profit=train_min_profit)\n",
    "    reg_mdls[mdlname]['max_profit_train'] = profits_train.profit.max()\n",
    "    reg_mdls[mdlname]['max_profit_test'] = profits_test.profit.max()\n",
    "    reg_mdls[mdlname]['max_roi'] = profits_test.roi.max()\n",
    "    reg_mdls[mdlname]['min_costs'] = profits_test.costs.min()\n",
    "    reg_mdls[mdlname]['profits_train'] = profits_train\n",
    "    reg_mdls[mdlname]['profits_test'] = profits_test\n",
    "    reg_mdls[mdlname]['total_feat'] = reg_mdls[mdlname]['fitted'].feature_importances_.shape[0]\n",
    "    reg_mdls[mdlname]['num_feat'] = sum(reg_mdls[mdlname]['fitted'].feature_importances_ > 0)"
   ]
  },
  {
   "cell_type": "code",
   "execution_count": null,
   "id": "8d9097b8",
   "metadata": {},
   "outputs": [],
   "source": [
    "reg_metrics_df = pd.DataFrame.from_dict(reg_mdls, 'index')\\\n",
    "                    [['depth', 'fs', 'rmse_train', 'rmse_test', 'max_profit_train',\\\n",
    "                      'max_profit_test', 'max_roi', 'min_costs', 'speed', 'total_feat', 'num_feat']]\n",
    "reg_metrics_df = reg_metrics_df[reg_metrics_df.depth < 7]\n",
    "with pd.option_context('display.precision', 2):\n",
    "    html = reg_metrics_df.sort_values(by='max_profit_test', ascending=False).style.\\\n",
    "        background_gradient(cmap='plasma', low=0.3, high=1, subset=['rmse_train', 'rmse_test']).\\\n",
    "        background_gradient(cmap='viridis', low=1, high=0.3, subset=['max_profit_train', 'max_profit_test'])\n",
    "html"
   ]
  }
 ],
 "metadata": {
  "kernelspec": {
   "display_name": "Python 3 (ipykernel)",
   "language": "python",
   "name": "python3"
  },
  "language_info": {
   "codemirror_mode": {
    "name": "ipython",
    "version": 3
   },
   "file_extension": ".py",
   "mimetype": "text/x-python",
   "name": "python",
   "nbconvert_exporter": "python",
   "pygments_lexer": "ipython3",
   "version": "3.8.10"
  }
 },
 "nbformat": 4,
 "nbformat_minor": 5
}
