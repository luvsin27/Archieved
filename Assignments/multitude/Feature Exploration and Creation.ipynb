{
 "cells": [
  {
   "cell_type": "code",
   "execution_count": null,
   "id": "19cd536e",
   "metadata": {},
   "outputs": [],
   "source": [
    "grid_result = grid_search.fit(X_train, y_train)\n",
    "fitted_class_mdls[mdl_name+'_reg'] =mldatasets.evaluate_class_mdl(grid_result.best_estimator_,\n",
    "                    X_train, X_test, y_train, y_test, plot_roc=False,\n",
    "                    plot_conf_matrix=False, show_summary=False,\n",
    "                    ret_eval_dict=True)\n",
    "fitted_class_mdls[mdl_name+'_reg']['cv_results'] =grid_result.cv_results_\n",
    "fitted_class_mdls[mdl_name+'_reg']['cv_best_params'] =grid_result.best_params_\n",
    "fitted_class_mdls=\n",
    "XGBRFClassifier(base_score=0.5, booster='gbtree', colsample_bylevel=1,\n",
    "                colsample_bynode=0.8, colsample_bytree=1, eta=1, gamma=0,\n",
    "                gpu_id=-1, importance_type='gain', interaction_constraints='',\n",
    "                learning_rate=1, max_delta_step=0, max_depth=7,\n",
    "                min_child_weight=1, missing=nan, monotone_constraints='()',\n",
    "                n_estimators=200, n_jobs=12, num_parallel_tree=200,\n",
    "                objective='binary:logistic', random_state=23, reg_alpha=0,\n",
    "                reg_lambda=1e-05, scale_pos_weight=1, seed=23, subsample=0.8,\n",
    "                tree_method='exact', use_label_encoder=True,\n",
    "                validate_parameters=1, verbosity=None)\n",
    "RandomForestClassifier(bootstrap=True, ccp_alpha=0.0, class_weight=None,\n",
    "                       criterion='gini', max_depth=7, max_features='auto',\n",
    "                       max_leaf_nodes=None, max_samples=None,\n",
    "                       min_impurity_decrease=0.0, min_impurity_split=None,\n",
    "                       min_samples_leaf=1, min_samples_split=2,\n",
    "                       min_weight_fraction_leaf=0.0, n_estimators=100,\n",
    "                       n_jobs=None, oob_score=True, random_state=23, verbose=0,\n",
    "                       warm_start=False)\n",
    "XGBClassifier(base_score=0.5, booster='gbtree', colsample_bylevel=1,\n",
    "              colsample_bynode=1, colsample_bytree=1, eta=1, gamma=0, gpu_id=-1,\n",
    "              importance_type='gain', interaction_constraints='',\n",
    "              learning_rate=1, max_delta_step=0, max_depth=7,\n",
    "              min_child_weight=1, missing=nan, monotone_constraints='()',\n",
    "              n_estimators=100, n_jobs=12, num_parallel_tree=1,\n",
    "              objective='binary:logistic', random_state=23, reg_alpha=0,\n",
    "              reg_lambda=1, scale_pos_weight=1, seed=23, subsample=1,\n",
    "              tree_method='exact', use_label_encoder=True,\n",
    "              validate_parameters=1, verbosity=None)\n",
    "LGBMClassifier(boosting_type='gbdt', class_weight=None, colsample_bytree=1.0,\n",
    "               importance_type='split', learning_rate=0.7, max_depth=5,\n",
    "               min_child_samples=20, min_child_weight=0.001, min_split_gain=0.0,\n",
    "               n_estimators=100, n_jobs=-1, num_leaves=31, objective=None,\n",
    "               random_seed=23, random_state=None, reg_alpha=0.0, reg_lambda=0.0,\n",
    "               silent=True, subsample=1.0, subsample_for_bin=200000,\n",
    "               subsample_freq=0)"
   ]
  },
  {
   "cell_type": "code",
   "execution_count": null,
   "id": "3f6ad4a4",
   "metadata": {},
   "outputs": [],
   "source": [
    "#Understanding interactions"
   ]
  },
  {
   "cell_type": "code",
   "execution_count": null,
   "id": "540e117e",
   "metadata": {},
   "outputs": [],
   "source": [
    "fitted_xgbrf_mdl = fitted_class_mdls['xgb-rf_base']['fitted']\n",
    "# fitted_xgbrf_mdl = fitted_class_mdls['xgb-rf_base']['fitted'][1:-1]\n",
    "shap_xgbrf_explainer = shap.TreeExplainer(fitted_xgbrf_mdl)\n",
    "\n",
    "shap_xgbrf_values = shap_xgbrf_explainer.shap_values(X_test)\n",
    "shap_xgbrf_values_t=shap_xgbrf_explainer.shap_values(X_train)"
   ]
  },
  {
   "cell_type": "code",
   "execution_count": null,
   "id": "d5f18619",
   "metadata": {},
   "outputs": [],
   "source": [
    "plt.figure(figsize=(12,7))\n",
    "\n",
    "ax0 = plt.subplot(1, 2, 1)\n",
    "shap.summary_plot(shap_xgbrf_values_t, X_train, plot_type=\"dot\",plot_size=None, show=False)\n",
    "ax0.set_title(\"XGBoost SHAP Summary(Train)\", fontsize=15)\n",
    "\n",
    "ax1 = plt.subplot(1, 2, 2)\n",
    "shap.summary_plot(shap_xgbrf_values, X_test, plot_type=\"dot\",plot_size=None, show=False)\n",
    "ax1.set_title(\"XGBoost SHAP Summary(Test)\", fontsize=15)\n",
    "\n",
    "plt.tight_layout()\n",
    "plt.subplots_adjust(wspace=1)\n",
    "plt.show()"
   ]
  },
  {
   "cell_type": "code",
   "execution_count": null,
   "id": "368eb076",
   "metadata": {},
   "outputs": [],
   "source": [
    "shap_xgbrf_interact_values = shap_xgbrf_explainer.shap_interaction_values(X_test)\n",
    "shap.summary_plot(shap_xgbrf_interact_values, X_test,plot_type=\"compact_dot\", sort=True)"
   ]
  },
  {
   "cell_type": "code",
   "execution_count": null,
   "id": "9141d593",
   "metadata": {},
   "outputs": [],
   "source": [
    "shap_xgbrf_interact_avgs = np.abs(shap_xgbrf_interact_values).mean(0)\n",
    "np.fill_diagonal(shap_xgbrf_interact_avgs, 0)\n",
    "shap_xgbrf_interact_df = pd.DataFrame(shap_xgbrf_interact_avgs)\n",
    "shap_xgbrf_interact_df.columns = X_test.columns\n",
    "shap_xgbrf_interact_df.index = X_test.columns\n",
    "\n",
    "plt.figure(figsize=(40,40))\n",
    "sns.set(font_scale=1.4)\n",
    "sns.heatmap(shap_xgbrf_interact_df, cmap='Blues', annot=True,annot_kws={'size':10}, fmt='.2f', linewidths=.2)\n",
    "plt.show()"
   ]
  },
  {
   "cell_type": "code",
   "execution_count": null,
   "id": "0b97da59",
   "metadata": {},
   "outputs": [],
   "source": [
    "top_features_l = ['comb08'] + ['co2TailpipeGpm', 'fuelType_Diesel',\\\n",
    "                               'co2', 'year', 'ghgScore', 'cylinders']\n",
    "top_df = fueleconomy_df.loc[X_train.index, top_features_l]"
   ]
  },
  {
   "cell_type": "code",
   "execution_count": null,
   "id": "d503b5bd",
   "metadata": {},
   "outputs": [],
   "source": [
    "corrs = stats.spearmanr(top_df).correlation\n",
    "mask = np.zeros_like(corrs)\n",
    "mask[np.triu_indices_from(mask)] = True\n",
    "ax = sns.heatmap(\n",
    "    corrs, \n",
    "    vmin=-1, vmax=1, center=0,\n",
    "    cmap=sns.diverging_palette(20, 220, n=200),\n",
    "    xticklabels=top_df.columns,\n",
    "    yticklabels=top_df.columns,\n",
    "    mask=mask,\n",
    "    square=True\n",
    ")\n",
    "ax.set_xticklabels(\n",
    "    ax.get_xticklabels(),\n",
    "    rotation=45,\n",
    "    horizontalalignment='right'\n",
    ")\n",
    "plt.show()"
   ]
  },
  {
   "cell_type": "code",
   "execution_count": null,
   "id": "e2c59a7b",
   "metadata": {},
   "outputs": [],
   "source": [
    "print('spearman\\tco2TailpipeGpm→comb08\\tcorr: %.3f\\tp-val: %.4f' % \n",
    "      (stats.spearmanr(X_train.co2TailpipeGpm.values, top_df.comb08.values)))\n",
    "print('point-biserial\\tfuelType_Diesel→comb08\\tcorr: %.3f\\tp-val: %.4f' % \n",
    "      (stats.pointbiserialr(top_df.fuelType_Diesel.values, top_df.comb08.values)))\n",
    "print('spearman\\tco2→comb08\\t\\tcorr: %.3f\\tp-val: %.4f' % \n",
    "      (stats.spearmanr(X_train.co2.values, top_df.comb08.values)))\n",
    "print('spearman\\tyear→comb08\\t\\tcorr: %.3f\\tp-val: %.4f' % \n",
    "      (stats.spearmanr(X_train.year.values, top_df.comb08.values)))\n",
    "print('spearman\\tghgScore→comb08\\t\\tcorr: %.3f\\tp-val: %.4f' % \n",
    "      (stats.spearmanr(top_df.ghgScore.values, top_df.comb08.values)))\n",
    "print('spearman\\tcylinders→comb08\\tcorr: %.3f\\tp-val: %.4f' % \n",
    "      (stats.spearmanr(X_train.cylinders.values, top_df.comb08.values)))"
   ]
  },
  {
   "cell_type": "code",
   "execution_count": null,
   "id": "920f031c",
   "metadata": {},
   "outputs": [],
   "source": [
    "shap.dependence_plot(\"co2TailpipeGpm\", shap_xgb_values_test, X_test,\\\n",
    "                     interaction_index=\"cylinders\", show=False, alpha=0.3)\n",
    "fig = plt.gcf()\n",
    "fig.set_size_inches(12,8)\n",
    "plt.show()\n",
    "print('spearman\\tcylinders→co2TailpipeGpm\\tcorr: %.3f\\tp-val: %.4f' % \n",
    "      (stats.spearmanr(X_train.cylinders.values, X_train.co2TailpipeGpm.values)))\n",
    "shap.dependence_plot(\"cylinders\", shap_xgb_values_train, X_train,\\\n",
    "                     interaction_index=\"ghgScore\", show=False,\\\n",
    "                     x_jitter=0.4, alpha=0.3)\n",
    "fig = plt.gcf()\n",
    "fig.set_size_inches(12,8)\n",
    "plt.show()\n",
    "print('spearman\\tghgScore→cylinders\\t\\tcorr: %.3f\\tp-val: %.4f' % \n",
    "      (stats.spearmanr(top_df.ghgScore.values, top_df.cylinders.values)))"
   ]
  },
  {
   "cell_type": "code",
   "execution_count": null,
   "id": "d6c7a9b0",
   "metadata": {},
   "outputs": [],
   "source": [
    "fig, axs = plt.subplots(1, 2, figsize = (13,6))\n",
    "fig.subplots_adjust(hspace=0, wspace=0.3)\n",
    "sns.regplot(x=X_train.cylinders, y=X_train.co2TailpipeGpm, ax=axs[0],\\\n",
    "            scatter_kws={'alpha':0.3}, line_kws={'color':'g'})\n",
    "axs[0].set_ylabel('Tailpipe CO2 in grams/mile', fontsize=13)\n",
    "axs[0].set_xlabel('Cylinders', fontsize=13)\n",
    "axs[0].set_xlim([-1,17])\n",
    "sns.regplot(x=X_train.cylinders, y=y_train, ax=axs[1], marker=\"+\",\\\n",
    "            scatter_kws={'alpha':0.3}, line_kws={'color':'g'})\n",
    "axs[1].set_ylabel('Combined MPG (comb08)', fontsize=13)\n",
    "axs[1].set_xlabel('Cylinders', fontsize=13)\n",
    "axs[1].set_xlim([-1,17])\n",
    "plt.show() "
   ]
  },
  {
   "cell_type": "code",
   "execution_count": null,
   "id": "b446e18d",
   "metadata": {},
   "outputs": [],
   "source": [
    "shap.dependence_plot(\"co2TailpipeGpm\", shap_nn_values_test[0],\\\n",
    "                     X_test, alpha=0.3,\\\n",
    "                     interaction_index=\"co2\", show=False)\n",
    "fig = plt.gcf()\n",
    "fig.set_size_inches(12,8)\n",
    "plt.show()\n",
    "print('spearman\\tco2→co2TailpipeGpm\\tcorr: %.3f\\tp-val: %.4f' % \n",
    "      (stats.spearmanr(X_train.co2.values, X_train.co2TailpipeGpm.values)))"
   ]
  },
  {
   "cell_type": "code",
   "execution_count": null,
   "id": "445c2a30",
   "metadata": {},
   "outputs": [],
   "source": [
    "fig, axs = plt.subplots(1, 2, figsize = (13,6))\n",
    "sns.regplot(x=X_train.co2, y=X_train.co2TailpipeGpm, ax=axs[0],\\\n",
    "            scatter_kws={'alpha':0.3}, line_kws={'color':'g'})\n",
    "axs[0].set_ylabel('Tailpipe CO2 in grams/mile (co2TailpipeGpm)',\\\n",
    "                  fontsize=13)\n",
    "axs[0].set_xlabel('Tailpipe CO2 in grams/mile (co2)', fontsize=13)\n",
    "axs[0].set_xlim([-50, 750])\n",
    "sns.regplot(x=X_train.co2, y=y_train, ax=axs[1], marker=\"+\",\\\n",
    "            scatter_kws={'alpha':0.3}, line_kws={'color':'g'})\n",
    "axs[1].set_ylabel('Combined MPG (comb08)', fontsize=13)\n",
    "axs[1].set_xlabel('Tailpipe CO2 in grams/mile (co2)', fontsize=13)\n",
    "axs[1].set_xlim([-50, 750])\n",
    "plt.show() "
   ]
  },
  {
   "cell_type": "code",
   "execution_count": null,
   "id": "d8eb0f85",
   "metadata": {},
   "outputs": [],
   "source": [
    "shap.dependence_plot(\"co2\", shap_nn_values_test[0],\\\n",
    "                     X_test, alpha=0.3, x_jitter=10,\\\n",
    "                     interaction_index=\"ghgScore\", show=False)\n",
    "fig = plt.gcf()\n",
    "fig.set_size_inches(12,8)\n",
    "plt.show()\n",
    "print('spearman\\tghgScore→co2\\tcorr: %.3f\\tp-val: %.4f' % \n",
    "      (stats.spearmanr(top_df.ghgScore.values, top_df.co2.values)))\n",
    "shap.dependence_plot(\"ghgScore\", shap_nn_values_test[0],\\\n",
    "                     X_test, alpha=0.3, x_jitter=0.4,\\\n",
    "                     interaction_index=\"year\", show=False)\n",
    "fig = plt.gcf()\n",
    "fig.set_size_inches(12,8)\n",
    "plt.show()\n",
    "print('spearman\\tghgScore→year\\tcorr: %.3f\\tp-val: %.4f' % \n",
    "      (stats.spearmanr(top_df.ghgScore.values, top_df.year.values)))"
   ]
  },
  {
   "cell_type": "code",
   "execution_count": null,
   "id": "3060e320",
   "metadata": {},
   "outputs": [],
   "source": [
    "fig, axs = plt.subplots(1, 2, figsize = (13,6))\n",
    "sns.regplot(x=X_train.ghgScore, y=X_train.co2TailpipeGpm, ax=axs[0],\\\n",
    "            scatter_kws={'alpha':0.3}, line_kws={'color':'g'})\n",
    "axs[0].set_ylabel('Tailpipe CO2 in grams/mile (co2TailpipeGpm)',\\\n",
    "                  fontsize=13)\n",
    "axs[0].set_xlabel('EPA GHG Score (ghgScore)', fontsize=13)\n",
    "axs[0].set_xlim([-1, 11])\n",
    "sns.regplot(x=X_train.ghgScore, y=y_train, ax=axs[1], marker=\"+\",\\\n",
    "            scatter_kws={'alpha':0.3}, line_kws={'color':'g'})\n",
    "axs[1].set_ylabel('Combined MPG (comb08)', fontsize=13)\n",
    "axs[1].set_xlabel('EPA GHG Score (ghgScore)', fontsize=13)\n",
    "axs[1].set_xlim([-1, 11])\n",
    "plt.show() "
   ]
  },
  {
   "cell_type": "code",
   "execution_count": null,
   "id": "1164bfbc",
   "metadata": {},
   "outputs": [],
   "source": [
    "# Force plot"
   ]
  },
  {
   "cell_type": "code",
   "execution_count": null,
   "id": "4689f38f",
   "metadata": {},
   "outputs": [],
   "source": [
    "sample_test_size = 0.05\n",
    "sample_test_idx = np.random.choice(X_test.shape[0],\n",
    "                                   math.ceil(X_test.shape[0]*sample_test_size),\\\n",
    "                                   replace=False)\n",
    "shap.initjs()\n",
    "shap.force_plot(shap_xgb_explainer.expected_value,\\\n",
    "                shap_xgb_values_test[sample_test_idx],\\\n",
    "                X_test.iloc[sample_test_idx])"
   ]
  },
  {
   "cell_type": "code",
   "execution_count": null,
   "id": "b96db0b2",
   "metadata": {},
   "outputs": [],
   "source": [
    "# ALE"
   ]
  },
  {
   "cell_type": "code",
   "execution_count": null,
   "id": "c9853286",
   "metadata": {},
   "outputs": [],
   "source": [
    "for feature_name in ['co2TailpipeGpm', 'co2', 'ghgScore',\\\n",
    "                     'year', 'cylinders']:\n",
    "    plt.rc(\"figure\", figsize=(14, 10))\n",
    "    ale_plot(\n",
    "        fitted_xgb_model, X_test, [feature_name], bins=10,\\\n",
    "        monte_carlo=True, monte_carlo_rep=50,\\\n",
    "        monte_carlo_ratio=0.4\n",
    "    )\n",
    "    plt.show()"
   ]
  },
  {
   "cell_type": "code",
   "execution_count": null,
   "id": "708063c8",
   "metadata": {},
   "outputs": [],
   "source": [
    "for interaction in [['co2TailpipeGpm', 'co2'], ['co2TailpipeGpm', 'ghgScore'],\\\n",
    "                    ['cylinders', 'co2TailpipeGpm'], ['year', 'co2TailpipeGpm']]:\n",
    "    plt.rc(\"figure\", figsize=(14, 10))\n",
    "    ale_plot(\n",
    "        fitted_xgb_model, X_test, interaction, bins=[10,10]\n",
    "    )\n",
    "    plt.show()"
   ]
  },
  {
   "cell_type": "code",
   "execution_count": null,
   "id": "fd1b6b7c",
   "metadata": {},
   "outputs": [],
   "source": [
    "# Global Surrogate"
   ]
  },
  {
   "cell_type": "code",
   "execution_count": null,
   "id": "921b0370",
   "metadata": {},
   "outputs": [],
   "source": [
    "# Fitting Surrogate"
   ]
  },
  {
   "cell_type": "code",
   "execution_count": null,
   "id": "467fe7b6",
   "metadata": {},
   "outputs": [],
   "source": [
    "fitted_dt_surrogate = tree.DecisionTreeRegressor(max_depth=7,\\\n",
    "                                                 random_state=rand).\\\n",
    "                                        fit(X_train, y_train_nn_pred)\n",
    "y_train_dt_pred = fitted_dt_surrogate.predict(X_train)\n",
    "y_test_dt_pred = fitted_dt_surrogate.predict(X_test)"
   ]
  },
  {
   "cell_type": "code",
   "execution_count": null,
   "id": "b2be75bf",
   "metadata": {},
   "outputs": [],
   "source": [
    "fitted_rf_surrogate = RuleFit(max_rules=150, rfmode='regress',\\\n",
    "                              random_state=rand, tree_size=8).\\\n",
    "                        fit(X_train.astype(float).values,\\\n",
    "                            np.array(y_train_nn_pred).squeeze(),\\\n",
    "                            X_train.columns)\n",
    "y_train_rf_pred = fitted_rf_surrogate.predict(X_train.astype(float).values)\n",
    "y_test_rf_pred = fitted_rf_surrogate.predict(X_test.astype(float).values)"
   ]
  },
  {
   "cell_type": "code",
   "execution_count": null,
   "id": "485db70b",
   "metadata": {},
   "outputs": [],
   "source": [
    "# eval surrogates"
   ]
  },
  {
   "cell_type": "code",
   "execution_count": null,
   "id": "31335262",
   "metadata": {},
   "outputs": [],
   "source": [
    "#Measure how well Decision Tree replicates Neural Network's predictions\n",
    "RMSE_dt_nn_train = metrics.mean_squared_error(y_train_nn_pred,\\\n",
    "                                              y_train_dt_pred,\\\n",
    "                                              squared=False)\n",
    "RMSE_dt_nn_test = metrics.mean_squared_error(y_test_nn_pred,\\\n",
    "                                             y_test_dt_pred,\\\n",
    "                                             squared=False)\n",
    "R2_dt_nn_test = metrics.r2_score(y_test_nn_pred, y_test_dt_pred)\n",
    "#Print all metrics\n",
    "print('RMSE_train: %.4f\\tRMSE_test: %.4f\\tr2: %.4f' %\\\n",
    "                (RMSE_dt_nn_train, RMSE_dt_nn_test, R2_dt_nn_test))"
   ]
  },
  {
   "cell_type": "code",
   "execution_count": null,
   "id": "d8bc38e2",
   "metadata": {},
   "outputs": [],
   "source": [
    "#Measure how well Rule Fit replicates Neural Network's predictions\n",
    "RMSE_rf_nn_train = metrics.mean_squared_error(y_train_nn_pred,\\\n",
    "                                              y_train_rf_pred,\\\n",
    "                                              squared=False)\n",
    "RMSE_rf_nn_test = metrics.mean_squared_error(y_test_nn_pred,\\\n",
    "                                             y_test_rf_pred,\\\n",
    "                                             squared=False)\n",
    "R2_rf_nn_test = metrics.r2_score(y_test_nn_pred, y_test_rf_pred)\n",
    "#Print all metrics\n",
    "print('RMSE_train: %.4f\\tRMSE_test: %.4f\\tr2: %.4f' %\\\n",
    "                (RMSE_rf_nn_train, RMSE_rf_nn_test, R2_rf_nn_test))"
   ]
  },
  {
   "cell_type": "code",
   "execution_count": null,
   "id": "5ef12474",
   "metadata": {},
   "outputs": [],
   "source": [
    "#Interpretting Surrogate"
   ]
  },
  {
   "cell_type": "code",
   "execution_count": null,
   "id": "d32eaa39",
   "metadata": {},
   "outputs": [],
   "source": [
    "sns.reset_orig()\n",
    "fig, axes = plt.subplots(nrows = 1, ncols = 1, figsize = (16,8), dpi=600)\n",
    "tree.plot_tree(fitted_dt_surrogate,\\\n",
    "               feature_names=X_train.columns.values.tolist(), filled = True, max_depth=2)\n",
    "fig.show()"
   ]
  },
  {
   "cell_type": "code",
   "execution_count": null,
   "id": "d4f23d62",
   "metadata": {},
   "outputs": [],
   "source": [
    "text_tree = tree.export_text(fitted_dt_surrogate,\\\n",
    "               feature_names=X_train.columns.values.tolist())\n",
    "print(text_tree)"
   ]
  },
  {
   "cell_type": "code",
   "execution_count": null,
   "id": "3d3b1391",
   "metadata": {},
   "outputs": [],
   "source": [
    "rulefit_df = fitted_rf_surrogate.get_rules()\n",
    "rulefit_df = rulefit_df[rulefit_df.coef != 0]\n",
    "rulefit_df.sort_values(by=\"importance\", ascending=False)"
   ]
  },
  {
   "cell_type": "code",
   "execution_count": null,
   "id": "985e909f",
   "metadata": {},
   "outputs": [],
   "source": [
    "### Local Interpretation for a group of predictions using Decision Plots"
   ]
  },
  {
   "cell_type": "code",
   "execution_count": null,
   "id": "65f36ac9",
   "metadata": {},
   "outputs": [],
   "source": [
    "sample_test_idx = X_test.index.\\\n",
    "                    get_indexer_for([5,6,7,18,19,21,24,25,27])"
   ]
  },
  {
   "cell_type": "code",
   "execution_count": null,
   "id": "dfde3e6f",
   "metadata": {},
   "outputs": [],
   "source": [
    "expected_value = shap_svm_explainer.expected_value[1]\n",
    "y_test_shap_pred = (shap_svm_values_test[1].sum(1) + expected_value) > 0.5\n",
    "print(np.array_equal(y_test_shap_pred, y_test_svc_pred))"
   ]
  },
  {
   "cell_type": "code",
   "execution_count": null,
   "id": "1fb4c9f0",
   "metadata": {},
   "outputs": [],
   "source": [
    "FN = (~y_test_shap_pred[sample_test_idx]) &\\\n",
    "     (y_test.iloc[sample_test_idx] == 1).to_numpy() "
   ]
  },
  {
   "cell_type": "code",
   "execution_count": null,
   "id": "bf76750a",
   "metadata": {},
   "outputs": [],
   "source": [
    "sns.reset_orig()\n",
    "plt.rcParams.update(orig_plt_params)\n",
    "shap.decision_plot(expected_value, shap_svm_values_test[1][sample_test_idx],\\\n",
    "                   X_test.iloc[sample_test_idx], highlight=FN)"
   ]
  },
  {
   "cell_type": "code",
   "execution_count": null,
   "id": "9c3ec712",
   "metadata": {},
   "outputs": [],
   "source": [
    "shap.decision_plot(expected_value, shap_svm_values_test[1][696],\\\n",
    "                   X_test.iloc[696], highlight=0)"
   ]
  },
  {
   "cell_type": "code",
   "execution_count": null,
   "id": "4d232fd6",
   "metadata": {},
   "outputs": [],
   "source": [
    "### Local Interpretation for a single prediction at a time using Force Plot"
   ]
  },
  {
   "cell_type": "code",
   "execution_count": null,
   "id": "35239bf7",
   "metadata": {},
   "outputs": [],
   "source": [
    "eval_idxs = (X_test.index==5) | (X_test.index==24)\n",
    "X_test_eval = X_test[eval_idxs]\n",
    "eval_compare_df = pd.concat([\\\n",
    "            chocolateratings_df.iloc[X_test[eval_idxs].index].rating,\\\n",
    "            pd.DataFrame({'y':y_test[eval_idxs]}, index=[5,24]),\\\n",
    "            pd.DataFrame({'y_pred':y_test_svc_pred[eval_idxs]},\\\n",
    "                         index=[24,5]),\n",
    "            X_test_eval], axis=1).transpose()\n",
    "eval_compare_df"
   ]
  },
  {
   "cell_type": "code",
   "execution_count": null,
   "id": "3130407b",
   "metadata": {},
   "outputs": [],
   "source": [
    "shap.force_plot(expected_value, shap_svm_values_test[1][X_test.index==5],\\\n",
    "                X_test[X_test.index==5],  matplotlib=True)"
   ]
  },
  {
   "cell_type": "code",
   "execution_count": null,
   "id": "36a16ae2",
   "metadata": {},
   "outputs": [],
   "source": [
    "shap.force_plot(expected_value, shap_svm_values_test[1][X_test.index==24],\\\n",
    "                X_test[X_test.index==24], matplotlib=True)"
   ]
  },
  {
   "cell_type": "code",
   "execution_count": null,
   "id": "6367b76c",
   "metadata": {},
   "outputs": [],
   "source": [
    "## Employing Local Interpretable Model-agnostic Explanations (LIME)"
   ]
  },
  {
   "cell_type": "code",
   "execution_count": null,
   "id": "f4aa5465",
   "metadata": {},
   "outputs": [],
   "source": [
    "### Local Interpretation for a single prediction at a time using LimeTabularExplainer"
   ]
  },
  {
   "cell_type": "code",
   "execution_count": null,
   "id": "b889c79e",
   "metadata": {},
   "outputs": [],
   "source": [
    "lime_svm_explainer = lime.lime_tabular.LimeTabularExplainer(X_test.values,\\\n",
    "                        feature_names=X_test.columns, categorical_features=list(range(3,44)),\\\n",
    "                        class_names=['Not Highly Recomm.', 'Highly Recomm.'])"
   ]
  },
  {
   "cell_type": "code",
   "execution_count": null,
   "id": "5e2578d5",
   "metadata": {},
   "outputs": [],
   "source": [
    "lime_svm_explainer.explain_instance(X_test[X_test.index==5].values[0],\\\n",
    "                                    fitted_svm_mdl.predict_proba,\\\n",
    "                                    num_features=8).\\\n",
    "                                show_in_notebook(predict_proba=True)"
   ]
  },
  {
   "cell_type": "code",
   "execution_count": null,
   "id": "240a81a6",
   "metadata": {},
   "outputs": [],
   "source": [
    "lime_svm_explainer.explain_instance(X_test[X_test.index==24].values[0],\\\n",
    "                                    fitted_svm_mdl.predict_proba,\\\n",
    "                                    num_features=8).\\\n",
    "                                show_in_notebook(predict_proba=True)"
   ]
  },
  {
   "cell_type": "code",
   "execution_count": null,
   "id": "a759332e",
   "metadata": {},
   "outputs": [],
   "source": [
    "#### Getting Acquainted to our “Instance of Interest”"
   ]
  },
  {
   "cell_type": "code",
   "execution_count": null,
   "id": "9a4e0ed9",
   "metadata": {},
   "outputs": [],
   "source": [
    "idx1 = 5231\n",
    "idx2 = 2726\n",
    "idx3 = 10127\n",
    "eval_idxs = X_test.index.isin([idx1, idx2, idx3])\n",
    "X_test_evals = X_test[eval_idxs]\n",
    "eval_compare_df = pd.concat([\\\n",
    "            pd.DataFrame({'y':y_test[eval_idxs]},\\\n",
    "                         index=[idx3, idx2, idx1]),\\\n",
    "            pd.DataFrame({'y_pred':y_test_cb_pred[eval_idxs]},\\\n",
    "                         index=[idx3, idx2, idx1]),\\\n",
    "            X_test_evals], axis=1).transpose()\n",
    "eval_compare_df"
   ]
  },
  {
   "cell_type": "code",
   "execution_count": null,
   "id": "d3b1e4ba",
   "metadata": {},
   "outputs": [],
   "source": [
    "## Understanding Anchor Explanations"
   ]
  },
  {
   "cell_type": "code",
   "execution_count": null,
   "id": "7c44ff44",
   "metadata": {},
   "outputs": [],
   "source": [
    "class_names = ['Low Risk', 'Medium/High Risk']"
   ]
  },
  {
   "cell_type": "code",
   "execution_count": null,
   "id": "fddfebdb",
   "metadata": {},
   "outputs": [],
   "source": [
    "X_test_eval = np.expand_dims(X_test.values[X_test.\\\n",
    "                                           index.get_loc(idx1)], axis=0)\n",
    "print(X_test_eval)"
   ]
  },
  {
   "cell_type": "code",
   "execution_count": null,
   "id": "1d5d0d89",
   "metadata": {},
   "outputs": [],
   "source": [
    "cat_vars_ohe = {5: 2, 7: 6, 13: 8}\n",
    "print(ohe_to_ord(X_test_eval, cat_vars_ohe)[0])"
   ]
  },
  {
   "cell_type": "code",
   "execution_count": null,
   "id": "1cfbd86e",
   "metadata": {},
   "outputs": [],
   "source": [
    "category_map = {\n",
    "    5: ['Female', 'Male'],\n",
    "    6: ['African-American', 'Asian', 'Caucasian',\\\n",
    "        'Hispanic', 'Native American', 'Other'],\n",
    "    7: ['Felony 1st Degree', 'Felony 2nd Degree',\\\n",
    "        'Felony 3rd Degree', 'Felony 7th Degree',\\\n",
    "        'Misdemeanor 1st Degree', 'Misdemeanor 2nd Degree',\\\n",
    "        'Misdemeanor 3rd Degree', 'Other Charge Degree']\n",
    "}\n",
    "feature_names = ['age', 'juv_fel_count', 'juv_misd_count',\\\n",
    "                 'juv_other_count', 'priors_count', \n",
    "                 'sex', 'race', 'c_charge_degree']"
   ]
  },
  {
   "cell_type": "code",
   "execution_count": null,
   "id": "5013344c",
   "metadata": {},
   "outputs": [],
   "source": [
    "category_map_ohe = {5: ['Not Female', 'Female'], 6: ['Not Male', 'Male'],\\\n",
    "        7:['Not African American', 'African American'],\\\n",
    "        8:['Not Asian', 'Asian'], 9:['Not Caucasian', 'Caucasian'],\\\n",
    "        10:['Not Hispanic', 'Hispanic'],\\\n",
    "        11:['Not Native American', 'Native American'],\\\n",
    "        12:['Not Other Race', 'Other Race'],\\\n",
    "        13:['Not Felony 1st Level', 'Felony 1st Level'],\\\n",
    "        14:['Not Felony 2nd Level', 'Felony 2nd Level'],\\\n",
    "        15:['Not Felony 3rd Level', 'Felony 3rd Level'],\\\n",
    "        16:['Not Felony 7th Level', 'Felony 7th Level'],\\\n",
    "        17:['Not Misdemeanor 1st Deg', 'Misdemeanor 1st Deg'],\\\n",
    "        18:['Not Misdemeanor 2nd Deg', 'Misdemeanor 2nd Deg'],\\\n",
    "        19:['Not Misdemeanor 3rd Deg', 'Misdemeanor 3rd Deg'],\\\n",
    "        20:['Not Other Charge Degree', 'Other Charge Degree']}"
   ]
  },
  {
   "cell_type": "code",
   "execution_count": null,
   "id": "9db735f7",
   "metadata": {},
   "outputs": [],
   "source": [
    "### Local Interpretations for Anchor Explanations"
   ]
  },
  {
   "cell_type": "code",
   "execution_count": null,
   "id": "ead36afd",
   "metadata": {},
   "outputs": [],
   "source": [
    "predict_cb_fn = lambda x: fitted_cb_mdl.predict_proba(x)\n",
    "anchor_cb_explainer = AnchorTabular(predict_cb_fn, X_train.columns,\\\n",
    "                                    categorical_names=category_map_ohe)\n",
    "anchor_cb_explainer.fit(X_train.values)"
   ]
  },
  {
   "cell_type": "code",
   "execution_count": null,
   "id": "17dd830b",
   "metadata": {},
   "outputs": [],
   "source": [
    "print('Prediction: %s' %\\\n",
    "      class_names[anchor_cb_explainer.predictor(X_test.loc[idx1].values)[0]])"
   ]
  },
  {
   "cell_type": "code",
   "execution_count": null,
   "id": "06bd2c6f",
   "metadata": {},
   "outputs": [],
   "source": [
    "anchor_cb_explanation =\\\n",
    "    anchor_cb_explainer.explain(X_test.loc[idx1].values, threshold=0.85,\\\n",
    "                                seed=rand)\n",
    "print('Anchor: %s' % (' AND\\r\\n\\t'.join(anchor_cb_explanation.anchor)))\n",
    "print('Precision: %.3f' % anchor_cb_explanation.precision)\n",
    "print('Coverage: %.3f' % anchor_cb_explanation.coverage)"
   ]
  },
  {
   "cell_type": "code",
   "execution_count": null,
   "id": "e648d580",
   "metadata": {},
   "outputs": [],
   "source": [
    "anchor_cb_explanation =\\\n",
    "    anchor_cb_explainer.explain(X_test.loc[idx1].values, threshold=0.85,\\\n",
    "                                seed=rand)\n",
    "print('Anchor: %s' % (' AND\\r\\n\\t'.join(anchor_cb_explanation.anchor)))\n",
    "print('Precision: %.3f' % anchor_cb_explanation.precision)\n",
    "print('Coverage: %.3f' % anchor_cb_explanation.coverage)"
   ]
  },
  {
   "cell_type": "code",
   "execution_count": null,
   "id": "f6528b68",
   "metadata": {},
   "outputs": [],
   "source": [
    "anchor_cb_explanation =\\\n",
    "    anchor_cb_explainer.explain(X_test.loc[idx1].values, threshold=0.85,\\\n",
    "                                seed=rand)\n",
    "print('Anchor: %s' % (' AND\\r\\n\\t'.join(anchor_cb_explanation.anchor)))\n",
    "print('Precision: %.3f' % anchor_cb_explanation.precision)\n",
    "print('Coverage: %.3f' % anchor_cb_explanation.coverage)"
   ]
  },
  {
   "cell_type": "code",
   "execution_count": null,
   "id": "2a21f72b",
   "metadata": {},
   "outputs": [],
   "source": [
    "predict_nn_fn = lambda x: np.concatenate((1 - fitted_nn_mdl.predict(x),\\\n",
    "                                          fitted_nn_mdl.predict(x)), axis=1)\n",
    "anchor_nn_explainer = AnchorTabular(predict_nn_fn, X_train.columns,\\\n",
    "                                    categorical_names=category_map_ohe)\n",
    "anchor_nn_explainer.fit(X_train.values)"
   ]
  },
  {
   "cell_type": "code",
   "execution_count": null,
   "id": "02838a8f",
   "metadata": {},
   "outputs": [],
   "source": [
    "anchor_nn_explanation =\\\n",
    "    anchor_nn_explainer.explain(X_test.loc[idx2].values, threshold=0.85,\\\n",
    "                                seed=rand)\n",
    "print('Anchor: %s' % (' AND\\r\\n\\t'.join(anchor_nn_explanation.anchor)))\n",
    "print('Precision: %.3f' % anchor_nn_explanation.precision)\n",
    "print('Coverage: %.3f' % anchor_nn_explanation.coverage)"
   ]
  },
  {
   "cell_type": "code",
   "execution_count": null,
   "id": "01ce9467",
   "metadata": {},
   "outputs": [],
   "source": [
    "anchor_nn_explanation =\\\n",
    "    anchor_nn_explainer.explain(X_test.loc[idx3].values, threshold=0.85,\\\n",
    "                                seed=rand)\n",
    "print('Anchor: %s' % (' AND\\r\\n\\t'.join(anchor_nn_explanation.anchor)))\n",
    "print('Precision: %.3f' % anchor_nn_explanation.precision)\n",
    "print('Coverage: %.3f' % anchor_nn_explanation.coverage)"
   ]
  },
  {
   "cell_type": "code",
   "execution_count": null,
   "id": "394819ce",
   "metadata": {},
   "outputs": [],
   "source": [
    "## Exploring Counterfactual Explanations"
   ]
  },
  {
   "cell_type": "code",
   "execution_count": null,
   "id": "35db8452",
   "metadata": {},
   "outputs": [],
   "source": [
    "### Counterfactual Explanations Guided by Prototypes"
   ]
  },
  {
   "cell_type": "code",
   "execution_count": null,
   "id": "a930401f",
   "metadata": {},
   "outputs": [],
   "source": [
    "feature_range = (X_train.values.min(axis=0).reshape(1,21).astype(np.float32),\\\n",
    "                 X_train.values.max(axis=0).reshape(1,21).astype(np.float32))\n",
    "print(feature_range)"
   ]
  },
  {
   "cell_type": "code",
   "execution_count": null,
   "id": "6437a006",
   "metadata": {},
   "outputs": [],
   "source": [
    "cf_nn_explainer = CounterFactualProto(predict_nn_fn,\n",
    "                                    X_test_eval.shape,\n",
    "                                    max_iterations=100,\n",
    "                                    feature_range=feature_range, \n",
    "                                    beta=.1, theta=5,\n",
    "                                    use_kdtree=True\n",
    "                                )\n",
    "cf_nn_explainer.fit(X_test.values, d_type='abdm-mvdm')"
   ]
  },
  {
   "cell_type": "code",
   "execution_count": null,
   "id": "63a71ed7",
   "metadata": {},
   "outputs": [],
   "source": [
    "cf_nn_explanation = cf_nn_explainer.explain(X_test_eval)\n",
    "mldatasets.describe_cf_instance(X_test_eval, cf_nn_explanation, class_names,\\\n",
    "                  cat_vars_ohe, category_map, feature_names)"
   ]
  },
  {
   "cell_type": "code",
   "execution_count": null,
   "id": "f3b0d91f",
   "metadata": {},
   "outputs": [],
   "source": [
    "### Counterfactual Instances and much more with the What-If-Tool (WIT)"
   ]
  },
  {
   "cell_type": "code",
   "execution_count": null,
   "id": "9ad86201",
   "metadata": {},
   "outputs": [],
   "source": [
    "#### Configuring WIT"
   ]
  },
  {
   "cell_type": "code",
   "execution_count": null,
   "id": "17144208",
   "metadata": {},
   "outputs": [],
   "source": [
    "shap_cb_explainer = shap.TreeExplainer(fitted_cb_mdl)"
   ]
  },
  {
   "cell_type": "code",
   "execution_count": null,
   "id": "e3888b2b",
   "metadata": {},
   "outputs": [],
   "source": [
    "test_df = recidivism_df.loc[y_test.index]\n",
    "test_np = test_df.values\n",
    "cols_l = test_df.columns\n",
    "delcol_idx = [cols_l.get_loc(\"is_recid\"),\\\n",
    "              cols_l.get_loc(\"compas_score\")]"
   ]
  },
  {
   "cell_type": "code",
   "execution_count": null,
   "id": "58648bdd",
   "metadata": {},
   "outputs": [],
   "source": [
    "def custom_predict_with_shap(examples_np):\n",
    "    #For shap values we only need same features\n",
    "    #that were used for training\n",
    "    inputs_np = np.delete(np.array(examples_np),\\\n",
    "                          delcol_idx, axis=1)\n",
    "\n",
    "    #Get the model's class predictions\n",
    "    preds = predict_cb_fn(inputs_np)\n",
    "\n",
    "    #With test data generate SHAP values which converted\n",
    "    #to a list of dictionaries format\n",
    "    keepcols_l = [c for i, c in enumerate(cols_l)\\\n",
    "                  if i not in delcol_idx]\n",
    "    shap_output = shap_cb_explainer.shap_values(inputs_np)\n",
    "    attributions = []\n",
    "    for shap in shap_output:\n",
    "        attrs = {}\n",
    "        for i, col in enumerate(keepcols_l):\n",
    "            attrs[col] = shap[i]\n",
    "        attributions.append(attrs)\n",
    "        \n",
    "    #Prediction function must output \n",
    "    #predictions/attributions in dictionary\n",
    "    output = {'predictions': preds,\\\n",
    "              'attributions': attributions}\n",
    "    return output"
   ]
  },
  {
   "cell_type": "code",
   "execution_count": null,
   "id": "2c3bd64a",
   "metadata": {},
   "outputs": [],
   "source": [
    "#### Displaying WIT"
   ]
  },
  {
   "cell_type": "code",
   "execution_count": null,
   "id": "66b56bdf",
   "metadata": {},
   "outputs": [],
   "source": [
    "print(y_test.index.get_loc(5231))"
   ]
  },
  {
   "cell_type": "code",
   "execution_count": null,
   "id": "e1e9f998",
   "metadata": {},
   "outputs": [],
   "source": [
    "wit_config_builder = WitConfigBuilder(\\\n",
    "                    test_np.tolist(), feature_names=cols_l.tolist()\n",
    "                ).set_custom_predict_fn(custom_predict_with_shap).\\\n",
    "                set_target_feature(\"is_recid\").set_label_vocab(class_names)\n",
    "WitWidget(wit_config_builder, height=800)"
   ]
  },
  {
   "cell_type": "code",
   "execution_count": null,
   "id": "69ec990a",
   "metadata": {},
   "outputs": [],
   "source": [
    "## Comparing with the Contrastive Explanation Method (CEM)"
   ]
  },
  {
   "cell_type": "code",
   "execution_count": null,
   "id": "48658a7d",
   "metadata": {},
   "outputs": [],
   "source": [
    "### Train an Autoencoder"
   ]
  },
  {
   "cell_type": "code",
   "execution_count": null,
   "id": "65dd1af1",
   "metadata": {},
   "outputs": [],
   "source": [
    "input_layer = tf.keras.Input(shape=(21))\n",
    "encoder = tf.keras.layers.Dense(10, activation='relu')(input_layer)\n",
    "bottleneck = tf.keras.layers.Dense(3, activation='relu')(encoder)\n",
    "decoder = tf.keras.layers.Dense(10, activation='relu')(bottleneck)\n",
    "output_layer = tf.keras.layers.Dense(21, activation='linear')(decoder)\n",
    "autoencoder_mdl = tf.keras.Model(input_layer, output_layer)\n",
    "autoencoder_mdl.summary()"
   ]
  },
  {
   "cell_type": "code",
   "execution_count": null,
   "id": "8cd7d7fc",
   "metadata": {},
   "outputs": [],
   "source": [
    "autoencoder_mdl.compile(loss='mean_squared_error', optimizer='adam')\n",
    "autoencoder_history = autoencoder_mdl.fit(X_train.values, X_train.values, epochs=16,\\\n",
    "                               batch_size=32, validation_split=0.2, verbose=0)"
   ]
  },
  {
   "cell_type": "code",
   "execution_count": null,
   "id": "80414756",
   "metadata": {},
   "outputs": [],
   "source": [
    "### Fit CEM Explainers & Extract Explanations"
   ]
  },
  {
   "cell_type": "code",
   "execution_count": null,
   "id": "36d09400",
   "metadata": {},
   "outputs": [],
   "source": [
    "cem_nn_explainer_pn = CEM(predict_nn_fn, 'PN',\\\n",
    "                          X_test_eval.shape,\\\n",
    "                          feature_range=feature_range,\\\n",
    "                          max_iterations=100, gamma=100,\\\n",
    "                          ae_model=autoencoder_mdl)\n",
    "cem_nn_explainer_pn.fit(X_train.values, no_info_type='median')\n",
    "cem_nn_explanation_pn = cem_nn_explainer_pn.explain(X_test_eval,\\\n",
    "                                                    verbose=False)\n",
    "print(\"%s -> %s\" % (class_names[cem_nn_explanation_pn.X_pred],\\\n",
    "                    class_names[cem_nn_explanation_pn.PN_pred]))\n",
    "print(\"Probabilities: %s\" % predict_nn_fn(cem_nn_explanation_pn.PN)[0])\n",
    "print(\"Values: %s\" % cem_nn_explanation_pn.PN[0])"
   ]
  },
  {
   "cell_type": "code",
   "execution_count": null,
   "id": "2f7d8cb9",
   "metadata": {},
   "outputs": [],
   "source": [
    "cem_nn_explainer_pp = CEM(predict_nn_fn, 'PP',\\\n",
    "                          X_test_eval.shape,\\\n",
    "                          feature_range=feature_range,\\\n",
    "                          max_iterations=100, gamma=100,\\\n",
    "                          ae_model=autoencoder_mdl)\n",
    "cem_nn_explainer_pp.fit(X_train.values, no_info_type='median')\n",
    "cem_nn_explanation_pp = cem_nn_explainer_pp.explain(X_test_eval,\\\n",
    "                                                    verbose=False)\n",
    "print(\"%s -> %s\" % (class_names[cem_nn_explanation_pp.X_pred],\\\n",
    "                    class_names[cem_nn_explanation_pp.PP_pred]))\n",
    "print(\"Probabilities: %s\" % predict_nn_fn(cem_nn_explanation_pp.PP)[0])\n",
    "print(\"Values: %s\" % cem_nn_explanation_pp.PP[0])"
   ]
  },
  {
   "cell_type": "code",
   "execution_count": null,
   "id": "ba5ed8bd",
   "metadata": {},
   "outputs": [],
   "source": [
    "### Comparing CEM Explanations"
   ]
  },
  {
   "cell_type": "code",
   "execution_count": null,
   "id": "cc004b03",
   "metadata": {},
   "outputs": [],
   "source": [
    "salients_df = pd.DataFrame({'Feature': X_test.columns,\\\n",
    "                     'x': cem_nn_explanation_pn.X[0],\\\n",
    "                     'PN': cem_nn_explanation_pn.PN[0],\\\n",
    "                     'PN-x': cem_nn_explanation_pn.PN[0]-\\\n",
    "                            cem_nn_explanation_pn.X[0],\\\n",
    "                     'PP': cem_nn_explanation_pp.PP[0]})\n",
    "salients_df = salients_df[(salients_df.PP != 0) |\\\n",
    "                          (salients_df.PN != 0)]\n",
    "salients_df"
   ]
  },
  {
   "cell_type": "code",
   "execution_count": null,
   "id": "0a65da75",
   "metadata": {},
   "outputs": [],
   "source": [
    "ebm_mdl = ExplainableBoostingClassifier()\n",
    "ebm_mdl.fit(X_train, y_train)"
   ]
  },
  {
   "cell_type": "code",
   "execution_count": null,
   "id": "89be6ce0",
   "metadata": {},
   "outputs": [],
   "source": [
    "show(ebm_mdl.explain_global())"
   ]
  },
  {
   "cell_type": "code",
   "execution_count": null,
   "id": "fea854be",
   "metadata": {},
   "outputs": [],
   "source": [
    "ebm_lcl = ebm_mdl.explain_local(X_val,y_val, name='EBM')\n",
    "show(ebm_lcl)"
   ]
  },
  {
   "cell_type": "code",
   "execution_count": null,
   "id": "0608b84d",
   "metadata": {},
   "outputs": [],
   "source": [
    "ebm_perf = ROC(ebm_mdl.predict_proba).explain_perf(X_val,y_val, name='EBM')\n",
    "show(ebm_perf)"
   ]
  },
  {
   "cell_type": "code",
   "execution_count": null,
   "id": "29a7ad24",
   "metadata": {},
   "outputs": [],
   "source": [
    "X_train_con = X_train.drop(['race'], axis=1).copy()\n",
    "X_test_con = X_test.drop(['race'], axis=1).copy()\n",
    "\n",
    "print(fitted_class_mdls['xgb_reg']['cv_best_params'])\n",
    "\n",
    "best_xgb_params = {'eta': 1.3, 'max_depth': 8, 'reg_alpha': 0.4451,\\\n",
    "                   'reg_lambda': 0.7168, 'scale_pos_weight': 0.9914}\n",
    "mono_con = (0,0,0,0,0,0,0,0,1)\n",
    "interact_con = [[4, 5, 6, 7, 8],[0, 1, 2, 3]]\n",
    "\n",
    "#evaluating constrained model\n",
    "xgb_con = xgb.XGBClassifier(seed=rand,\\\n",
    "                            monotone_constraints=mono_con,\\\n",
    "                            interaction_constraints=interact_con,\\\n",
    "                            **best_xgb_params)\n",
    "xgb_con = xgb_con.fit(X_train_con, y_train)\n",
    "fitted_class_mdls['xgb_con'] =\\\n",
    "        mldatasets.evaluate_class_mdl(xgb_con, X_train_con, X_test_con,\\\n",
    "                                      y_train, y_test, plot_roc=False,\\\n",
    "                                      ret_eval_dict=True)\n",
    "y_test_pred = fitted_class_mdls['xgb_con']['preds_test']\n",
    "_ = mldatasets.\\\n",
    "            compare_confusion_matrices(y_test[X_test.race==1], y_test_pred[X_test.race==1],\\\n",
    "                                       y_test[X_test.race==0], y_test_pred[X_test.race==0],\\\n",
    "                                       'Caucasian', 'African-American', compare_fpr=True)\n",
    "\n",
    "#examining constraints\n",
    "\n",
    "fitted_xgb_con_mdl = fitted_class_mdls['xgb_con']['fitted']\n",
    "shap_xgb_con_explainer = shap.TreeExplainer(fitted_xgb_con_mdl)\n",
    "shap_xgb_con_values = shap_xgb_con_explainer.shap_values(X_test_con)\n",
    "shap.summary_plot(shap_xgb_con_values, X_test_con, plot_type=\"dot\", show=False)\n",
    "fig = plt.gcf()\n",
    "fig.set_size_inches(8,10)\n",
    "plt.show()\n",
    "\n",
    "mldatasets.plot_prob_contour_map(recidivism_df.age_group, recidivism_df.priors_per_year,\\\n",
    "                                 recidivism_df.is_recid, x_intervals=ordenc.categories_[2],\\\n",
    "                                 y_intervals=6, use_quartiles=True, xlabel='Age Group',\\\n",
    "                                 ylabel='Priors Per Year', X_df=X_test, x_col='age_group',\\\n",
    "                                 y_col='priors_per_year', model=fitted_xgb_mdl,\\\n",
    "                title='Probability of Recidivism by Age/Priors per Year (according to XGBoost Regularized Model)')\n",
    "\n",
    "mldatasets.plot_prob_contour_map(recidivism_df.age_group, recidivism_df.priors_per_year,\\\n",
    "                                 recidivism_df.is_recid, x_intervals=ordenc.categories_[2],\\\n",
    "                                 y_intervals=6, use_quartiles=True, xlabel='Age Group',\\\n",
    "                                 ylabel='Priors Per Year', X_df=X_test_con, x_col='age_group',\\\n",
    "                                 y_col='priors_per_year', model=fitted_xgb_con_mdl,\\\n",
    "                title='Probability of Recidivism by Age/Priors per Year (according to XGBoost Constrained Model)')"
   ]
  }
 ],
 "metadata": {
  "kernelspec": {
   "display_name": "Python 3 (ipykernel)",
   "language": "python",
   "name": "python3"
  },
  "language_info": {
   "codemirror_mode": {
    "name": "ipython",
    "version": 3
   },
   "file_extension": ".py",
   "mimetype": "text/x-python",
   "name": "python",
   "nbconvert_exporter": "python",
   "pygments_lexer": "ipython3",
   "version": "3.8.10"
  }
 },
 "nbformat": 4,
 "nbformat_minor": 5
}
