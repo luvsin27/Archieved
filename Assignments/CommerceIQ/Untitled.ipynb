{
 "cells": [
  {
   "cell_type": "code",
   "execution_count": 2,
   "metadata": {},
   "outputs": [],
   "source": [
    "import pandas as pd"
   ]
  },
  {
   "cell_type": "code",
   "execution_count": 26,
   "metadata": {},
   "outputs": [],
   "source": [
    "df=pd.read_csv('ecom-elasticity-data1.tsv',sep='\\t',names=['ASIN', 'Category', 'Date', 'Price', 'Units Sold'])"
   ]
  },
  {
   "cell_type": "markdown",
   "metadata": {},
   "source": [
    "Case Study: \n",
    "\n",
    "Conglomerate Inc operates multiple brands under its umbrella that ranges from servicing Baby, Food & Beverages and Electronics items. They are looking to run promotional campaigns on Amazon and want to understand the effect of price elasticity for their categories. They have decided to run a pilot with CommerceIQ for three categories, diapers, breakfast cereals and headphones to understand their promotional strategy better.\n",
    "\n",
    "You have been given the data across three different categories (Diapers, Headphones and Breakfast Cereals) from 2017 to 2019. The data set contains information about daily price and sales on Amazon at Item level (ASIN, Category, Date, Price, Units Sold). \n",
    "\n",
    "Conglomerate Inc is looking to understand the following things as an outcome of this pilot.\n",
    "\n",
    "1. Quantify the impact of price on product demand for different products and product categories. Also, Identify and quantify the factors other than price that have an impact on product demand?\n",
    "2. Suggest a promotional strategy for each of three categories across the year (including the holiday season like ThanksGiving Weekend, Christmas, New Years, and Prime Day in July) to Conglomerate Inc based on the price elasticity.\n",
    "3. Interpret the data and present a consumer behaviour reasoning behind the patterns that you are seeing."
   ]
  },
  {
   "cell_type": "code",
   "execution_count": 31,
   "metadata": {},
   "outputs": [
    {
     "data": {
      "text/plain": [
       "100"
      ]
     },
     "execution_count": 31,
     "metadata": {},
     "output_type": "execute_result"
    }
   ],
   "source": [
    "df[df['Category']=='Diapers'].ASIN.nunique()"
   ]
  },
  {
   "cell_type": "code",
   "execution_count": 33,
   "metadata": {},
   "outputs": [
    {
     "data": {
      "text/plain": [
       "120"
      ]
     },
     "execution_count": 33,
     "metadata": {},
     "output_type": "execute_result"
    }
   ],
   "source": [
    "df[df['Category']=='Headphones'].ASIN.nunique()"
   ]
  },
  {
   "cell_type": "code",
   "execution_count": 34,
   "metadata": {},
   "outputs": [
    {
     "data": {
      "text/plain": [
       "200"
      ]
     },
     "execution_count": 34,
     "metadata": {},
     "output_type": "execute_result"
    }
   ],
   "source": [
    "df[df['Category']=='Cereals'].ASIN.nunique()"
   ]
  }
 ],
 "metadata": {
  "kernelspec": {
   "display_name": "Python 3",
   "language": "python",
   "name": "python3"
  },
  "language_info": {
   "codemirror_mode": {
    "name": "ipython",
    "version": 3
   },
   "file_extension": ".py",
   "mimetype": "text/x-python",
   "name": "python",
   "nbconvert_exporter": "python",
   "pygments_lexer": "ipython3",
   "version": "3.7.10"
  }
 },
 "nbformat": 4,
 "nbformat_minor": 2
}
